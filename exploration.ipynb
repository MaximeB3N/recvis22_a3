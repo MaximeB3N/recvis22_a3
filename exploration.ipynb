{
 "cells": [
  {
   "cell_type": "code",
   "execution_count": 1,
   "metadata": {},
   "outputs": [],
   "source": [
    "import argparse\n",
    "import os\n",
    "import torch\n",
    "import torch.nn as nn\n",
    "import torch.optim as optim\n",
    "from torchvision import datasets\n",
    "from torch.autograd import Variable\n",
    "from tqdm import tqdm"
   ]
  },
  {
   "cell_type": "code",
   "execution_count": 22,
   "metadata": {},
   "outputs": [],
   "source": [
    "data='bird_dataset'\n",
    "batch_size=64\n",
    "epochs=10\n",
    "lr=0.005\n",
    "momentum=0.5\n",
    "seed=1\n",
    "log_interval=5\n",
    "experiment='experiment/first'\n",
    "num_workers=4\n",
    "use_cuda = torch.cuda.is_available()"
   ]
  },
  {
   "cell_type": "code",
   "execution_count": 23,
   "metadata": {},
   "outputs": [],
   "source": [
    "\n",
    "# Data initialization and loading\n",
    "from data import data_transforms\n",
    "\n",
    "train_loader = torch.utils.data.DataLoader(\n",
    "    datasets.ImageFolder(data + '/train_images',\n",
    "                         transform=data_transforms),\n",
    "    batch_size=batch_size, shuffle=True, num_workers=num_workers)\n",
    "val_loader = torch.utils.data.DataLoader(\n",
    "    datasets.ImageFolder(data + '/val_images',\n",
    "                         transform=data_transforms),\n",
    "    batch_size=batch_size, shuffle=False, num_workers=num_workers)"
   ]
  },
  {
   "cell_type": "code",
   "execution_count": 24,
   "metadata": {},
   "outputs": [
    {
     "name": "stdout",
     "output_type": "stream",
     "text": [
      "Using CPU\n"
     ]
    }
   ],
   "source": [
    "from model import Net\n",
    "model = Net()\n",
    "if use_cuda:\n",
    "    print('Using GPU')\n",
    "    model.cuda()\n",
    "else:\n",
    "    print('Using CPU')\n",
    "\n",
    "optimizer = optim.Adam(model.parameters(), lr=lr)"
   ]
  },
  {
   "cell_type": "code",
   "execution_count": 25,
   "metadata": {},
   "outputs": [
    {
     "name": "stdout",
     "output_type": "stream",
     "text": [
      "Train Epoch: 1 [0/1082 (0%)]\tLoss: 3.001922\n",
      "Train Epoch: 1 [320/1082 (29%)]\tLoss: 3.036948\n",
      "Train Epoch: 1 [640/1082 (59%)]\tLoss: 2.999819\n",
      "Train Epoch: 1 [960/1082 (88%)]\tLoss: 2.997017\n",
      "\n",
      "Validation set: Average loss: 0.0584, Accuracy: 2/103 (2%)\n",
      "Saved model to experiment/first/model_1.pth. You can run `python evaluate.py --model experiment/first/model_1.pth` to generate the Kaggle formatted csv file\n",
      "\n",
      "Train Epoch: 2 [0/1082 (0%)]\tLoss: 2.994117\n",
      "Train Epoch: 2 [320/1082 (29%)]\tLoss: 3.000635\n",
      "Train Epoch: 2 [640/1082 (59%)]\tLoss: 2.952278\n",
      "Train Epoch: 2 [960/1082 (88%)]\tLoss: 2.968065\n",
      "\n",
      "Validation set: Average loss: 0.0557, Accuracy: 14/103 (14%)\n",
      "Saved model to experiment/first/model_2.pth. You can run `python evaluate.py --model experiment/first/model_2.pth` to generate the Kaggle formatted csv file\n",
      "\n",
      "Train Epoch: 3 [0/1082 (0%)]\tLoss: 2.842336\n",
      "Train Epoch: 3 [320/1082 (29%)]\tLoss: 2.858018\n",
      "Train Epoch: 3 [640/1082 (59%)]\tLoss: 2.782011\n",
      "Train Epoch: 3 [960/1082 (88%)]\tLoss: 2.782792\n",
      "\n",
      "Validation set: Average loss: 0.0515, Accuracy: 19/103 (18%)\n",
      "Saved model to experiment/first/model_3.pth. You can run `python evaluate.py --model experiment/first/model_3.pth` to generate the Kaggle formatted csv file\n",
      "\n",
      "Train Epoch: 4 [0/1082 (0%)]\tLoss: 2.569947\n",
      "Train Epoch: 4 [320/1082 (29%)]\tLoss: 2.559066\n",
      "Train Epoch: 4 [640/1082 (59%)]\tLoss: 2.696597\n",
      "Train Epoch: 4 [960/1082 (88%)]\tLoss: 2.682337\n"
     ]
    }
   ],
   "source": [
    "from utils import train, validation\n",
    "\n",
    "for epoch in range(1, epochs + 1):\n",
    "    train(model, train_loader, optimizer, use_cuda, \n",
    "            epoch, log_interval=log_interval) \n",
    "    validation(model, val_loader, use_cuda)\n",
    "    model_file = experiment + '/model_' + str(epoch) + '.pth'\n",
    "    torch.save(model.state_dict(), model_file)\n",
    "    print('Saved model to ' + model_file + '. You can run `python evaluate.py --model ' + model_file + '` to generate the Kaggle formatted csv file\\n')\n"
   ]
  },
  {
   "cell_type": "code",
   "execution_count": null,
   "metadata": {},
   "outputs": [],
   "source": []
  }
 ],
 "metadata": {
  "kernelspec": {
   "display_name": "Python 3.9.15 64-bit",
   "language": "python",
   "name": "python3"
  },
  "language_info": {
   "codemirror_mode": {
    "name": "ipython",
    "version": 3
   },
   "file_extension": ".py",
   "mimetype": "text/x-python",
   "name": "python",
   "nbconvert_exporter": "python",
   "pygments_lexer": "ipython3",
   "version": "3.9.15"
  },
  "orig_nbformat": 4,
  "vscode": {
   "interpreter": {
    "hash": "50292dbb1f747f7151d445135d392af3138fb3c65386d17d9510cb605222b10b"
   }
  }
 },
 "nbformat": 4,
 "nbformat_minor": 2
}
